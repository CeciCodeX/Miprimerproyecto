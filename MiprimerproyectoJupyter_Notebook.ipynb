{
 "cells": [
  {
   "cell_type": "markdown",
   "metadata": {},
   "source": [
    "<center>\n",
    "    <img src=\"https://cf-courses-data.s3.us.cloud-object-storage.appdomain.cloud/IBMDeveloperSkillsNetwork-DS0105EN-SkillsNetwork/labs/Module2/images/SN_web_lightmode.png\" width=\"300\" alt=\"cognitiveclass.ai logo\">\n",
    "</center>\n"
   ]
  },
  {
   "cell_type": "markdown",
   "metadata": {},
   "source": [
    "#### Add your code below following the instructions given in the course\n"
   ]
  },
  {
   "cell_type": "markdown",
   "metadata": {},
   "source": [
    "# Tarea calificada"
   ]
  },
  {
   "cell_type": "markdown",
   "metadata": {
    "tags": []
   },
   "source": [
    "#### Esta es una introducción a mi primer tarea calificada, estoy muy emocionada de poder experimentar en este lab."
   ]
  },
  {
   "cell_type": "markdown",
   "metadata": {},
   "source": [
    "1. Python\n",
    "2. R\n",
    "3. SQL\n",
    "4. Julia"
   ]
  },
  {
   "cell_type": "markdown",
   "metadata": {},
   "source": [
    "1.NumPy\n",
    "2.Pandas\n",
    "3.Matplotlib\n",
    "4.Seaborn\n",
    "5.Scikit-learn\n",
    "6.TensorFlow\n",
    "7.Keras\n",
    "8.PyTorch\n",
    "9.SciPy\n",
    "10.Statsmodels"
   ]
  },
  {
   "cell_type": "markdown",
   "metadata": {},
   "source": [
    "| Categoría | Herramientas |\n",
    "| --------- | ------------ |\n",
    "| Lenguajes | Python, R, SQL, Julia |\n",
    "| Bibliotecas | NumPy, Pandas, Matplotlib, Seaborn, Scikit-learn |\n",
    "| Frameworks de ML | TensorFlow, Keras, PyTorch, scikit-learn |\n",
    "| Herramientas de BD | MySQL, PostgreSQL, MongoDB, SQLite |\n",
    "| Herramientas de ETL | Apache Spark, Apache Airflow, Talend |\n",
    "| IDEs | Jupyter Notebook, RStudio, PyCharm, VS Code |\n",
    "| Visualización | Tableau, Power BI, Plotly, ggplot |\n"
   ]
  },
  {
   "cell_type": "code",
   "execution_count": 3,
   "metadata": {
    "tags": []
   },
   "outputs": [
    {
     "name": "stdout",
     "output_type": "stream",
     "text": [
      "15\n"
     ]
    }
   ],
   "source": [
    "numero1 = 5\n",
    "numero2 = 3\n",
    "\n",
    "print (numero1*numero2)"
   ]
  },
  {
   "cell_type": "code",
   "execution_count": 10,
   "metadata": {
    "tags": []
   },
   "outputs": [
    {
     "name": "stdout",
     "output_type": "stream",
     "text": [
      "15\n",
      "8\n"
     ]
    }
   ],
   "source": [
    "numero1 = 5\n",
    "numero2 = 3\n",
    "\n",
    "print (numero1*numero2)\n",
    "print (numero1 + numero2)"
   ]
  },
  {
   "cell_type": "code",
   "execution_count": 8,
   "metadata": {
    "tags": []
   },
   "outputs": [
    {
     "name": "stdout",
     "output_type": "stream",
     "text": [
      "150 minutos equivalen a 2.5 horas.\n"
     ]
    }
   ],
   "source": [
    "minutos = 150\n",
    "horas = minutos / 60\n",
    "\n",
    "print(minutos, \"minutos equivalen a\", horas, \"horas.\")\n"
   ]
  },
  {
   "cell_type": "markdown",
   "metadata": {
    "tags": []
   },
   "source": [
    "# Objectives:\n",
    "\n",
    " - Data Collection and Cleaning\n",
    " - Exploratory Data Analysis (EDA)\n",
    "- Predictive Modeling\n",
    "- Predictive Modeling\n"
   ]
  },
  {
   "cell_type": "markdown",
   "metadata": {},
   "source": [
    "#### Nombre de autor:\n",
    "\n",
    "##### **Cecilia Tocco**"
   ]
  },
  {
   "cell_type": "code",
   "execution_count": null,
   "metadata": {},
   "outputs": [],
   "source": []
  }
 ],
 "metadata": {
  "kernelspec": {
   "display_name": "Python",
   "language": "python",
   "name": "conda-env-python-py"
  },
  "language_info": {
   "codemirror_mode": {
    "name": "ipython",
    "version": 3
   },
   "file_extension": ".py",
   "mimetype": "text/x-python",
   "name": "python",
   "nbconvert_exporter": "python",
   "pygments_lexer": "ipython3",
   "version": "3.7.12"
  }
 },
 "nbformat": 4,
 "nbformat_minor": 4
}
